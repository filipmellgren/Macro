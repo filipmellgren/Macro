{
 "cells": [
  {
   "cell_type": "markdown",
   "metadata": {
    "slideshow": {
     "slide_type": "fragment"
    }
   },
   "source": [
    "# Part 1\n",
    "By Chris Hayes, Ismael Moreno Martinez, Filip Mellgren.\n",
    "We present our replication in a Jupyter notebook, meaning that the code is integrated with comments and the equations we use to motivate our code. The final table is presented at the bottom.\n",
    "\n",
    "We begin by loading some packages into Python:"
   ]
  },
  {
   "cell_type": "code",
   "execution_count": 1,
   "metadata": {
    "slideshow": {
     "slide_type": "fragment"
    }
   },
   "outputs": [],
   "source": [
    "import pandas as pd\n",
    "import os\n",
    "\n",
    "os.chdir(\"/Volumes/GoogleDrive/Min enhet/Learning/MSc/Macro\")"
   ]
  },
  {
   "cell_type": "markdown",
   "metadata": {
    "slideshow": {
     "slide_type": "slide"
    }
   },
   "source": [
    "### Data source\n",
    " Apx B points to a prepared data set, which we dowloaded from: \n",
    " https://www.sciencedirect.com/science/article/pii/S0304393208001402?via%3Dihub\n",
    " (Log in to ScienceDirect, download the spreadsheet under \"Extras\").\n",
    "\n",
    "\n",
    "Some slight manipulation were made in a google sheet to make it easier for the python console to read.\n",
    " These manipulations were: deleting empty rows at the top of the sheet\n",
    " and putting variable names at the top row, deleting the descriptor row\n",
    " \n",
    "### Loading the data into Python\n",
    "We iterated over the sheets of the Excel file to create a data frame object for each sheet. We then added a multiindex so that we would have a meaningful unique identifier for all combinations of countries and years. \n",
    "\n",
    "Next, we created a decade variable (since the analysis groups the data by decades)."
   ]
  },
  {
   "cell_type": "code",
   "execution_count": 2,
   "metadata": {
    "slideshow": {
     "slide_type": "slide"
    }
   },
   "outputs": [],
   "source": [
    "# The data was stored with each country in a separate sheet, named the following:\n",
    "country_list = [\"AUS\", \"BEL\", \"AUT\", \"CAN\", \"FIN\", \"FRA\", \"GER\", \"ITA\", \"JAP\", \n",
    "             \"NETH\", \"UK\", \"US\", \"SPA\", \"SWE\", \"SWI\"]\n"
   ]
  },
  {
   "cell_type": "code",
   "execution_count": 3,
   "metadata": {
    "slideshow": {
     "slide_type": "slide"
    }
   },
   "outputs": [],
   "source": [
    "# This loop loads the data into a dataframe and creates a multiindex based on\n",
    "# country identifier (from sheet name) and time.\n",
    "df = {}\n",
    "for country in country_list:\n",
    "    df[country] = pd.read_excel(\"ORRdata.xlsx\", sheet_name = country)\n",
    "    df[country][\"country\"] = country     \n",
    "    df[country] = df[country].dropna()\n",
    "    df[country][\"YEAR\"] = df[country][\"YEAR\"].astype(\"int32\")\n",
    "    df[country][\"YEAR\"] = pd.to_datetime(df[country][\"YEAR\"], \n",
    "      format=\"%Y\", errors=\"coerce\")\n",
    "    df[country] = df[country].set_index([\"YEAR\", \"country\"])\n",
    "\n",
    "data = pd.concat([df[\"AUS\"], df[\"BEL\"], df[\"AUT\"], df[\"CAN\"], df[\"FIN\"], \n",
    "                  df[\"FRA\"], df[\"GER\"], df[\"ITA\"], df[\"JAP\"],\n",
    "                  df[\"NETH\"], df[\"UK\"], df[\"US\"], df[\"SPA\"], df[\"SWE\"], df[\"SWI\"]], \n",
    "                 sort = True)\n",
    "\n",
    "data.sort_index(level=[\"country\", \"YEAR\",], ascending=True, inplace=True)"
   ]
  },
  {
   "cell_type": "code",
   "execution_count": 4,
   "metadata": {
    "slideshow": {
     "slide_type": "slide"
    }
   },
   "outputs": [],
   "source": [
    "####  Variable manipulation:\n",
    "# Turn the \"L = (H*E)/P\" variable into a numeric \"L\".\n",
    "# Non numeric values are set to missing:\n",
    "data[\"L\"] = pd.to_numeric(data[\"L = (H*E)/P\"], errors = \"coerce\")\n",
    "\n",
    "# Add a decade variable\n",
    "data[\"decade\"] = (data.index.get_level_values('YEAR').year//10)*10"
   ]
  },
  {
   "cell_type": "markdown",
   "metadata": {
    "slideshow": {
     "slide_type": "slide"
    }
   },
   "source": [
    "## Actual changes\n",
    "Having prepared the data set, we calculated actual changes to confirm that we thus far handled all the data correctly. These values can then be compared with the author's table 2."
   ]
  },
  {
   "cell_type": "code",
   "execution_count": 5,
   "metadata": {
    "slideshow": {
     "slide_type": "slide"
    }
   },
   "outputs": [],
   "source": [
    "#### Actual change ####\n",
    "# Calculate change \n",
    "data[\"L_change\"] = (data[\"L\"] - data[\"L\"].shift(1))/(data[\"L\"].shift(1))\n",
    "\n",
    "# Calculate average change, grouping by decade and country\n",
    "table2 = data[\"L_change\"].groupby([data.index.get_level_values('country'), \n",
    "             data[\"decade\"]]).mean()\n",
    "table2 = (table2.unstack()*100).round(2)\n",
    "\n",
    "\n",
    "data_post_1956 = data[data.index.get_level_values(\"YEAR\").year > 1956]\n",
    "table2[\"1956-2003\"] = data_post_1956[\"L_change\"].groupby(data_post_1956.index.get_level_values(\"country\")).mean()\n",
    "table2[\"1956-2003\"] =  (table2[\"1956-2003\"]*100).round(2)\n",
    "\n",
    "# Remove redundant columns\n",
    "table2 = table2[[1960, 1970, 1980, 1990, '1956-2003']]\n",
    "table2 = table2.sort_index()"
   ]
  },
  {
   "cell_type": "code",
   "execution_count": 6,
   "metadata": {
    "slideshow": {
     "slide_type": "-"
    }
   },
   "outputs": [
    {
     "data": {
      "text/latex": [
       "\\newpage"
      ],
      "text/plain": [
       "<IPython.core.display.Latex object>"
      ]
     },
     "metadata": {},
     "output_type": "display_data"
    }
   ],
   "source": [
    "%%latex\n",
    "\\newpage"
   ]
  },
  {
   "cell_type": "code",
   "execution_count": 7,
   "metadata": {},
   "outputs": [
    {
     "data": {
      "text/html": [
       "<div>\n",
       "<style scoped>\n",
       "    .dataframe tbody tr th:only-of-type {\n",
       "        vertical-align: middle;\n",
       "    }\n",
       "\n",
       "    .dataframe tbody tr th {\n",
       "        vertical-align: top;\n",
       "    }\n",
       "\n",
       "    .dataframe thead th {\n",
       "        text-align: right;\n",
       "    }\n",
       "</style>\n",
       "<table border=\"1\" class=\"dataframe\">\n",
       "  <thead>\n",
       "    <tr style=\"text-align: right;\">\n",
       "      <th>decade</th>\n",
       "      <th>1960</th>\n",
       "      <th>1970</th>\n",
       "      <th>1980</th>\n",
       "      <th>1990</th>\n",
       "      <th>1956-2003</th>\n",
       "    </tr>\n",
       "    <tr>\n",
       "      <th>country</th>\n",
       "      <th></th>\n",
       "      <th></th>\n",
       "      <th></th>\n",
       "      <th></th>\n",
       "      <th></th>\n",
       "    </tr>\n",
       "  </thead>\n",
       "  <tbody>\n",
       "    <tr>\n",
       "      <th>AUS</th>\n",
       "      <td>0.11</td>\n",
       "      <td>-0.53</td>\n",
       "      <td>0.49</td>\n",
       "      <td>-0.01</td>\n",
       "      <td>0.01</td>\n",
       "    </tr>\n",
       "    <tr>\n",
       "      <th>AUT</th>\n",
       "      <td>-1.03</td>\n",
       "      <td>-1.14</td>\n",
       "      <td>-0.22</td>\n",
       "      <td>-0.53</td>\n",
       "      <td>-0.64</td>\n",
       "    </tr>\n",
       "    <tr>\n",
       "      <th>BEL</th>\n",
       "      <td>-1.03</td>\n",
       "      <td>-1.64</td>\n",
       "      <td>-0.74</td>\n",
       "      <td>0.06</td>\n",
       "      <td>-0.72</td>\n",
       "    </tr>\n",
       "    <tr>\n",
       "      <th>CAN</th>\n",
       "      <td>0.18</td>\n",
       "      <td>0.34</td>\n",
       "      <td>0.70</td>\n",
       "      <td>-0.16</td>\n",
       "      <td>0.17</td>\n",
       "    </tr>\n",
       "    <tr>\n",
       "      <th>FIN</th>\n",
       "      <td>-1.15</td>\n",
       "      <td>-0.45</td>\n",
       "      <td>0.32</td>\n",
       "      <td>-1.31</td>\n",
       "      <td>-1.54</td>\n",
       "    </tr>\n",
       "    <tr>\n",
       "      <th>FRA</th>\n",
       "      <td>-0.63</td>\n",
       "      <td>-1.47</td>\n",
       "      <td>-1.53</td>\n",
       "      <td>0.11</td>\n",
       "      <td>-0.87</td>\n",
       "    </tr>\n",
       "    <tr>\n",
       "      <th>GER</th>\n",
       "      <td>-1.09</td>\n",
       "      <td>-1.55</td>\n",
       "      <td>-1.20</td>\n",
       "      <td>-0.74</td>\n",
       "      <td>-1.08</td>\n",
       "    </tr>\n",
       "    <tr>\n",
       "      <th>ITA</th>\n",
       "      <td>-1.60</td>\n",
       "      <td>-1.19</td>\n",
       "      <td>-0.43</td>\n",
       "      <td>-0.16</td>\n",
       "      <td>-0.61</td>\n",
       "    </tr>\n",
       "    <tr>\n",
       "      <th>JAP</th>\n",
       "      <td>-0.39</td>\n",
       "      <td>-0.47</td>\n",
       "      <td>0.14</td>\n",
       "      <td>-0.74</td>\n",
       "      <td>-0.31</td>\n",
       "    </tr>\n",
       "    <tr>\n",
       "      <th>NETH</th>\n",
       "      <td>-0.65</td>\n",
       "      <td>-1.81</td>\n",
       "      <td>-0.95</td>\n",
       "      <td>1.40</td>\n",
       "      <td>-0.44</td>\n",
       "    </tr>\n",
       "    <tr>\n",
       "      <th>SPA</th>\n",
       "      <td>0.25</td>\n",
       "      <td>-1.67</td>\n",
       "      <td>-1.56</td>\n",
       "      <td>0.85</td>\n",
       "      <td>-0.28</td>\n",
       "    </tr>\n",
       "    <tr>\n",
       "      <th>SWE</th>\n",
       "      <td>-1.00</td>\n",
       "      <td>-0.36</td>\n",
       "      <td>0.54</td>\n",
       "      <td>-0.71</td>\n",
       "      <td>-0.48</td>\n",
       "    </tr>\n",
       "    <tr>\n",
       "      <th>SWI</th>\n",
       "      <td>-0.23</td>\n",
       "      <td>-1.26</td>\n",
       "      <td>0.31</td>\n",
       "      <td>0.27</td>\n",
       "      <td>-0.38</td>\n",
       "    </tr>\n",
       "    <tr>\n",
       "      <th>UK</th>\n",
       "      <td>-0.42</td>\n",
       "      <td>-1.17</td>\n",
       "      <td>-0.22</td>\n",
       "      <td>-0.34</td>\n",
       "      <td>-0.48</td>\n",
       "    </tr>\n",
       "    <tr>\n",
       "      <th>US</th>\n",
       "      <td>0.29</td>\n",
       "      <td>-0.25</td>\n",
       "      <td>0.73</td>\n",
       "      <td>0.46</td>\n",
       "      <td>0.03</td>\n",
       "    </tr>\n",
       "  </tbody>\n",
       "</table>\n",
       "</div>"
      ],
      "text/plain": [
       "decade   1960  1970  1980  1990  1956-2003\n",
       "country                                   \n",
       "AUS      0.11 -0.53  0.49 -0.01       0.01\n",
       "AUT     -1.03 -1.14 -0.22 -0.53      -0.64\n",
       "BEL     -1.03 -1.64 -0.74  0.06      -0.72\n",
       "CAN      0.18  0.34  0.70 -0.16       0.17\n",
       "FIN     -1.15 -0.45  0.32 -1.31      -1.54\n",
       "FRA     -0.63 -1.47 -1.53  0.11      -0.87\n",
       "GER     -1.09 -1.55 -1.20 -0.74      -1.08\n",
       "ITA     -1.60 -1.19 -0.43 -0.16      -0.61\n",
       "JAP     -0.39 -0.47  0.14 -0.74      -0.31\n",
       "NETH    -0.65 -1.81 -0.95  1.40      -0.44\n",
       "SPA      0.25 -1.67 -1.56  0.85      -0.28\n",
       "SWE     -1.00 -0.36  0.54 -0.71      -0.48\n",
       "SWI     -0.23 -1.26  0.31  0.27      -0.38\n",
       "UK      -0.42 -1.17 -0.22 -0.34      -0.48\n",
       "US       0.29 -0.25  0.73  0.46       0.03"
      ]
     },
     "execution_count": 7,
     "metadata": {},
     "output_type": "execute_result"
    }
   ],
   "source": [
    "table2 # Result for actual changes"
   ]
  },
  {
   "cell_type": "markdown",
   "metadata": {
    "slideshow": {
     "slide_type": "slide"
    }
   },
   "source": [
    "The values look fine, meaning that we are on the right track. Let's move on to replicate the predicted changes."
   ]
  },
  {
   "cell_type": "markdown",
   "metadata": {
    "slideshow": {
     "slide_type": "slide"
    }
   },
   "source": [
    "## Predicted change\n",
    "From here on, we focus on deriving the model predicted values. \n",
    "\n",
    "### Parameters given\n",
    "To begin with, we were given the following parameters:\n",
    "\n",
    "$\\bar{H} = 5110$, reflecting the potential to work 14 hours per day, 365 days per year.\n",
    "\n",
    "$\\gamma = 1$, is the elasticity between consumption and leisure. In a balanced equilibrium, it should be 1.\n",
    "\n",
    "$\\lambda = 1$ measures how households value government consumption. Having the value \"1\" means they value it as if it were their own consumption. "
   ]
  },
  {
   "cell_type": "code",
   "execution_count": 8,
   "metadata": {
    "slideshow": {
     "slide_type": "slide"
    }
   },
   "outputs": [],
   "source": [
    "# We were given the following parameters:\n",
    "H_bar = 5110\n",
    "gamma = 1\n",
    "Lambda = 1\n",
    "\n",
    "# Store base year variables in a separate data frame for future use:\n",
    "# Base years. 1956 for all countries but Australia, for which it is 1960\n",
    "# tax wedge defined as (1-\"labour\")/(1+\"consumption\")\n",
    "\n",
    "base_var = data.loc[data.index.get_level_values('YEAR').year == 1956, \n",
    "                    [\"taxwedge\", \"GDP\", \"CONSUMPTION \", \n",
    "                     \"GOVT. EXP\", \"L\", \"TOT HRS\", \"POPULATION\"]]\n",
    "# Just for the special case, Australia:\n",
    "base_var_aus = data.loc[data.index.get_level_values('YEAR').year == 1960, \n",
    "                    [\"taxwedge\", \"GDP\", \"CONSUMPTION \", \n",
    "                     \"GOVT. EXP\", \"L\", \"TOT HRS\", \"POPULATION\"]]\n",
    "\n",
    "base_var_aus = base_var_aus.loc[base_var_aus.index.get_level_values(\"country\") == \"AUS\"]\n",
    "base_var = base_var.append(base_var_aus)\n",
    "\n",
    "# Need to get rid of time as index, redundant for this data frame.\n",
    "base_var = base_var.reset_index()\n",
    "base_var = base_var.set_index(\"country\")"
   ]
  },
  {
   "cell_type": "markdown",
   "metadata": {
    "slideshow": {
     "slide_type": "slide"
    }
   },
   "source": [
    "### Calculating variable values\n",
    "We begin with calculating $\\bar{c}$, which cccording to the authors:\n",
    "\n",
    "\"that is equal to 5 percent of total US consumption in 1956.\" \n",
    "\n",
    "Unfortunately, they didn't tell us to adjust for population. We'll use the  following formula for country $i$:\n",
    "\n",
    "$$ \\bar{c_i} = 0.05 (C_{US,0} + G_{US,0}) \\frac{N_{i, 0}}{N_{US, 0}} $$"
   ]
  },
  {
   "cell_type": "code",
   "execution_count": 9,
   "metadata": {
    "slideshow": {
     "slide_type": "slide"
    }
   },
   "outputs": [],
   "source": [
    "C_us0 = base_var.loc[base_var.index == \"US\", \"CONSUMPTION \"].iloc[0]\n",
    "G_us0 = base_var.loc[base_var.index == \"US\", \"GOVT. EXP\"].iloc[0]\n",
    "N_us0 = base_var.loc[base_var.index == \"US\", \"POPULATION\"].iloc[0]\n",
    "\n",
    "# Value for c_bar\n",
    "c_bar = 0.05*(C_us0 + G_us0)* base_var[\"POPULATION\"] /N_us0"
   ]
  },
  {
   "cell_type": "markdown",
   "metadata": {
    "slideshow": {
     "slide_type": "slide"
    }
   },
   "source": [
    "Next, we move on the base period output to consumption, which was defined as:\n",
    "    $$\\frac{Y_0}{C_0 + \\lambda G_0 - \\bar{c}}$$\n",
    "Similarly, we can calculate the ratio for each $t$:\n",
    "        $$\\frac{Y_t}{C_t + \\lambda G_t - \\bar{c}} $$\n",
    "These are both used to calculate hours worked to hours of leisure:\n",
    "        $$\\frac{H_t^p} {(\\bar{H} - H_t^p)^{\\gamma}} = \\frac{1-\\tau_t}{1-\\tau_0}\\frac{\\frac{Y_0}{C_0 + \\lambda G_0 - \\bar{c}}}{\\frac{Y_t}{C_t + \\lambda G_t - \\bar{c}}} \\frac{H_0}{(\\bar{H}-H_0)^\\gamma}$$\n",
    "With $H_t^p$ being model predicted hours of work.\n",
    "We do this for all countries, hence the implementation is a vectorised version of the above.\n",
    "\n",
    "The tax wedge: $1-\\tau_t = \\frac{1-\\tau_{ht}}{1+\\tau_{ct}}$ \n",
    "is the ratio of what's left after the government has taxed your income to the price of a good after a consumption tax has been added. Luckily, this was already given in the data set."
   ]
  },
  {
   "cell_type": "code",
   "execution_count": 10,
   "metadata": {
    "slideshow": {
     "slide_type": "slide"
    }
   },
   "outputs": [],
   "source": [
    "# Define variables we'll be working with (for clarity in formulas):\n",
    "C0 = base_var[\"CONSUMPTION \"]\n",
    "G0 = base_var[\"GOVT. EXP\"]\n",
    "Y0 = base_var[\"GDP\"]\n",
    "tw0 = base_var[\"taxwedge\"]\n",
    "H0 = base_var[\"L\"]\n",
    "YCG0 = (Y0)/(C0 + Lambda*G0 - c_bar) # Base period output to consumption ratio\n",
    "\n",
    "C = data[\"CONSUMPTION \"]\n",
    "G = data[\"GOVT. EXP\"]\n",
    "Y = data[\"GDP\"]\n",
    "tw = data[\"taxwedge\"]\n",
    "YCGt = (Y)/(C + G * Lambda - c_bar) # Output to consumption ratio at t for all t"
   ]
  },
  {
   "cell_type": "markdown",
   "metadata": {
    "slideshow": {
     "slide_type": "slide"
    }
   },
   "source": [
    "Calculate the initial leisure to work variable: $$pct\\_work = \\frac{H_0}{(\\bar{H}-H_0)^\\gamma}$$"
   ]
  },
  {
   "cell_type": "code",
   "execution_count": 11,
   "metadata": {
    "slideshow": {
     "slide_type": "slide"
    }
   },
   "outputs": [],
   "source": [
    "pct_work = H0/(H_bar - H0)**gamma # fraction worked to leisure"
   ]
  },
  {
   "cell_type": "markdown",
   "metadata": {
    "slideshow": {
     "slide_type": "slide"
    }
   },
   "source": [
    "We now have everything on the RHS of the following and can compute values predicted by the model: $$\\frac{H_t^p} {\\bar{H} - H_t^p} = \\frac{1-\\tau_t}{1-\\tau_0}\\frac{\\frac{Y_0}{C_0 + \\lambda G_0 - \\bar{c}}}{\\frac{Y_t}{C_t + \\lambda G_t - \\bar{c}}} \\frac{H_0}{(\\bar{H}-H_0)^\\gamma}$$ "
   ]
  },
  {
   "cell_type": "code",
   "execution_count": 12,
   "metadata": {
    "slideshow": {
     "slide_type": "slide"
    }
   },
   "outputs": [],
   "source": [
    "data[\"work_leisure_t\"] = (tw * YCGt)/(tw0 * YCG0) * pct_work \n",
    "data[\"work_leisure_t\"] = pd.to_numeric(data[\"work_leisure_t\"])"
   ]
  },
  {
   "cell_type": "markdown",
   "metadata": {},
   "source": [
    "Next, we solve for model predicted hours, exploiting the fact that we now know $\\frac{H_t^p} {\\bar{H} - H_t^p}$ (from the relationship above) and also know $\\bar{H}$:\n",
    "$$H_t^p = \\frac{\\frac{H_t^p} {\\bar{H} - H_t^p} \\bar{H}}{1 + \\frac{H_t^p} {\\bar{H} - H_t^p}} $$\n",
    "\n",
    "We then calculate predicted change for every time period (and country), group by country and decade and take the arithmetic average (because that's what the authors did). We then add a column for the entire period."
   ]
  },
  {
   "cell_type": "code",
   "execution_count": 13,
   "metadata": {
    "slideshow": {
     "slide_type": "slide"
    }
   },
   "outputs": [],
   "source": [
    "# Solve for predicted hours:\n",
    "data[\"pred_hours\"] = data[\"work_leisure_t\"]*H_bar/(1 + data[\"work_leisure_t\"]) \n",
    "\n",
    "# Predict change in worked hours:\n",
    "data[\"pred_change\"] = (data[\"pred_hours\"] - data[\"pred_hours\"].shift(1))/(data[\"pred_hours\"] .shift(1))\n",
    "\n",
    "table3 = data[\"pred_change\"].groupby([data.index.get_level_values('country'), data[\"decade\"]]).mean()\n",
    "table3 = (table3.unstack()*100).round(2)\n",
    "\n",
    "# Need to add a column of average change between 1956 and 2003:\n",
    "data_post_1956 = data[data.index.get_level_values('YEAR').year > 1956]\n",
    "table3[\"1956-2003\"] = data_post_1956[\"pred_change\"].groupby(data_post_1956.index.get_level_values('country')).mean()\n",
    "table3[\"1956-2003\"] =  (table3[\"1956-2003\"]*100).round(2)\n",
    "\n",
    "# Remove redundant columns:\n",
    "table3 = table3[[1960, 1970, 1980, 1990, '1956-2003']]\n",
    "table3 = table3.sort_index()"
   ]
  },
  {
   "cell_type": "code",
   "execution_count": 14,
   "metadata": {},
   "outputs": [
    {
     "data": {
      "text/html": [
       "<div>\n",
       "<style scoped>\n",
       "    .dataframe tbody tr th:only-of-type {\n",
       "        vertical-align: middle;\n",
       "    }\n",
       "\n",
       "    .dataframe tbody tr th {\n",
       "        vertical-align: top;\n",
       "    }\n",
       "\n",
       "    .dataframe thead th {\n",
       "        text-align: right;\n",
       "    }\n",
       "</style>\n",
       "<table border=\"1\" class=\"dataframe\">\n",
       "  <thead>\n",
       "    <tr style=\"text-align: right;\">\n",
       "      <th>decade</th>\n",
       "      <th>1960</th>\n",
       "      <th>1970</th>\n",
       "      <th>1980</th>\n",
       "      <th>1990</th>\n",
       "      <th>1956-2003</th>\n",
       "    </tr>\n",
       "    <tr>\n",
       "      <th>country</th>\n",
       "      <th></th>\n",
       "      <th></th>\n",
       "      <th></th>\n",
       "      <th></th>\n",
       "      <th></th>\n",
       "    </tr>\n",
       "  </thead>\n",
       "  <tbody>\n",
       "    <tr>\n",
       "      <th>AUS</th>\n",
       "      <td>-0.16</td>\n",
       "      <td>-0.86</td>\n",
       "      <td>-0.33</td>\n",
       "      <td>0.14</td>\n",
       "      <td>-0.30</td>\n",
       "    </tr>\n",
       "    <tr>\n",
       "      <th>AUT</th>\n",
       "      <td>-0.70</td>\n",
       "      <td>-0.73</td>\n",
       "      <td>-0.11</td>\n",
       "      <td>-0.68</td>\n",
       "      <td>-0.49</td>\n",
       "    </tr>\n",
       "    <tr>\n",
       "      <th>BEL</th>\n",
       "      <td>-0.76</td>\n",
       "      <td>-1.60</td>\n",
       "      <td>-0.09</td>\n",
       "      <td>-0.25</td>\n",
       "      <td>-0.65</td>\n",
       "    </tr>\n",
       "    <tr>\n",
       "      <th>CAN</th>\n",
       "      <td>-0.74</td>\n",
       "      <td>0.08</td>\n",
       "      <td>-0.58</td>\n",
       "      <td>0.21</td>\n",
       "      <td>-0.24</td>\n",
       "    </tr>\n",
       "    <tr>\n",
       "      <th>FIN</th>\n",
       "      <td>-0.71</td>\n",
       "      <td>-0.70</td>\n",
       "      <td>-1.00</td>\n",
       "      <td>-0.51</td>\n",
       "      <td>-0.57</td>\n",
       "    </tr>\n",
       "    <tr>\n",
       "      <th>FRA</th>\n",
       "      <td>-0.29</td>\n",
       "      <td>-0.65</td>\n",
       "      <td>-0.62</td>\n",
       "      <td>-0.28</td>\n",
       "      <td>-0.38</td>\n",
       "    </tr>\n",
       "    <tr>\n",
       "      <th>GER</th>\n",
       "      <td>-0.65</td>\n",
       "      <td>-1.43</td>\n",
       "      <td>-0.13</td>\n",
       "      <td>-0.78</td>\n",
       "      <td>-0.68</td>\n",
       "    </tr>\n",
       "    <tr>\n",
       "      <th>ITA</th>\n",
       "      <td>-0.70</td>\n",
       "      <td>-0.70</td>\n",
       "      <td>-1.70</td>\n",
       "      <td>-1.37</td>\n",
       "      <td>-0.92</td>\n",
       "    </tr>\n",
       "    <tr>\n",
       "      <th>JAP</th>\n",
       "      <td>0.57</td>\n",
       "      <td>-0.64</td>\n",
       "      <td>-0.38</td>\n",
       "      <td>-0.65</td>\n",
       "      <td>-0.28</td>\n",
       "    </tr>\n",
       "    <tr>\n",
       "      <th>NETH</th>\n",
       "      <td>-1.30</td>\n",
       "      <td>-1.59</td>\n",
       "      <td>0.80</td>\n",
       "      <td>0.42</td>\n",
       "      <td>-0.45</td>\n",
       "    </tr>\n",
       "    <tr>\n",
       "      <th>SPA</th>\n",
       "      <td>-0.17</td>\n",
       "      <td>-1.00</td>\n",
       "      <td>-1.25</td>\n",
       "      <td>-0.21</td>\n",
       "      <td>-0.70</td>\n",
       "    </tr>\n",
       "    <tr>\n",
       "      <th>SWE</th>\n",
       "      <td>-2.08</td>\n",
       "      <td>-1.39</td>\n",
       "      <td>-1.00</td>\n",
       "      <td>0.50</td>\n",
       "      <td>-0.76</td>\n",
       "    </tr>\n",
       "    <tr>\n",
       "      <th>SWI</th>\n",
       "      <td>-0.19</td>\n",
       "      <td>-0.78</td>\n",
       "      <td>0.25</td>\n",
       "      <td>-0.72</td>\n",
       "      <td>-0.38</td>\n",
       "    </tr>\n",
       "    <tr>\n",
       "      <th>UK</th>\n",
       "      <td>-0.68</td>\n",
       "      <td>-0.07</td>\n",
       "      <td>-0.35</td>\n",
       "      <td>-0.06</td>\n",
       "      <td>-0.33</td>\n",
       "    </tr>\n",
       "    <tr>\n",
       "      <th>US</th>\n",
       "      <td>-0.49</td>\n",
       "      <td>0.06</td>\n",
       "      <td>-0.32</td>\n",
       "      <td>0.10</td>\n",
       "      <td>-0.20</td>\n",
       "    </tr>\n",
       "  </tbody>\n",
       "</table>\n",
       "</div>"
      ],
      "text/plain": [
       "decade   1960  1970  1980  1990  1956-2003\n",
       "country                                   \n",
       "AUS     -0.16 -0.86 -0.33  0.14      -0.30\n",
       "AUT     -0.70 -0.73 -0.11 -0.68      -0.49\n",
       "BEL     -0.76 -1.60 -0.09 -0.25      -0.65\n",
       "CAN     -0.74  0.08 -0.58  0.21      -0.24\n",
       "FIN     -0.71 -0.70 -1.00 -0.51      -0.57\n",
       "FRA     -0.29 -0.65 -0.62 -0.28      -0.38\n",
       "GER     -0.65 -1.43 -0.13 -0.78      -0.68\n",
       "ITA     -0.70 -0.70 -1.70 -1.37      -0.92\n",
       "JAP      0.57 -0.64 -0.38 -0.65      -0.28\n",
       "NETH    -1.30 -1.59  0.80  0.42      -0.45\n",
       "SPA     -0.17 -1.00 -1.25 -0.21      -0.70\n",
       "SWE     -2.08 -1.39 -1.00  0.50      -0.76\n",
       "SWI     -0.19 -0.78  0.25 -0.72      -0.38\n",
       "UK      -0.68 -0.07 -0.35 -0.06      -0.33\n",
       "US      -0.49  0.06 -0.32  0.10      -0.20"
      ]
     },
     "execution_count": 14,
     "metadata": {},
     "output_type": "execute_result"
    }
   ],
   "source": [
    "table3"
   ]
  },
  {
   "cell_type": "markdown",
   "metadata": {
    "slideshow": {
     "slide_type": "slide"
    }
   },
   "source": [
    "Apparently, everything looks fine but the values for Finland which are way off (Australia is slightly off as well). Eye balling the data we had at hands revealed that the L value for Finland had accidentally been coded as the population in the data. Imputing a more reasonable value (next period's value) using:"
   ]
  },
  {
   "cell_type": "code",
   "execution_count": 15,
   "metadata": {
    "slideshow": {
     "slide_type": "slide"
    }
   },
   "outputs": [],
   "source": [
    "%%capture\n",
    "data.set_value(data.L.idxmax(), \"L\", 1473.98)"
   ]
  },
  {
   "cell_type": "markdown",
   "metadata": {
    "slideshow": {
     "slide_type": "slide"
    }
   },
   "source": [
    "And then re running the whole code and recreate the table gives us something closer to what the authors found. We supress the code since it is precisely what we had above run again after we've changed one value in the data for Finland. We also add info on what group the countries are in according to the authors definition, as well as give the tables appropriate names."
   ]
  },
  {
   "cell_type": "code",
   "execution_count": 16,
   "metadata": {},
   "outputs": [
    {
     "data": {
      "text/latex": [
       "\\newpage"
      ],
      "text/plain": [
       "<IPython.core.display.Latex object>"
      ]
     },
     "metadata": {},
     "output_type": "display_data"
    }
   ],
   "source": [
    "%%latex\n",
    "\\newpage"
   ]
  },
  {
   "cell_type": "code",
   "execution_count": 17,
   "metadata": {
    "raw_mimetype": "text/x-python",
    "slideshow": {
     "slide_type": "skip"
    }
   },
   "outputs": [],
   "source": [
    "#### Actual change ####\n",
    "# Calculate change \n",
    "data[\"L_change\"] = (data[\"L\"] - data[\"L\"].shift(1))/(data[\"L\"].shift(1))\n",
    "\n",
    "# Calculate average change, grouping by decade and country\n",
    "table2 = data[\"L_change\"].groupby([data.index.get_level_values('country'), \n",
    "             data[\"decade\"]]).mean()\n",
    "table2 = (table2.unstack()*100).round(2)\n",
    "\n",
    "\n",
    "data_post_1956 = data[data.index.get_level_values(\"YEAR\").year > 1956]\n",
    "table2[\"1956-2003\"] = data_post_1956[\"L_change\"].groupby(data_post_1956.index.get_level_values(\"country\")).mean()\n",
    "table2[\"1956-2003\"] =  (table2[\"1956-2003\"]*100).round(2)\n",
    "\n",
    "# Remove redundant columns\n",
    "table2 = table2[[1960, 1970, 1980, 1990, '1956-2003']]\n",
    "table2 = table2.sort_index()\n",
    "\n",
    "H_bar = 5110\n",
    "gamma = 1\n",
    "Lambda = 1\n",
    "\n",
    "# Store base year variables in a separate data frame for future use:\n",
    "# Base years. 1956 for all countries but Australia, for which it is 1960\n",
    "# tax wedge defined as (1-\"labour\")/(1+\"consumption\")\n",
    "\n",
    "base_var = data.loc[data.index.get_level_values('YEAR').year == 1956, \n",
    "                    [\"taxwedge\", \"GDP\", \"CONSUMPTION \", \n",
    "                     \"GOVT. EXP\", \"L\", \"TOT HRS\", \"POPULATION\"]]\n",
    "# Just for the special case, Australia:\n",
    "base_var_aus = data.loc[data.index.get_level_values('YEAR').year == 1960, \n",
    "                    [\"taxwedge\", \"GDP\", \"CONSUMPTION \", \n",
    "                     \"GOVT. EXP\", \"L\", \"TOT HRS\", \"POPULATION\"]]\n",
    "\n",
    "base_var_aus = base_var_aus.loc[base_var_aus.index.get_level_values(\"country\") == \"AUS\"]\n",
    "base_var = base_var.append(base_var_aus)\n",
    "\n",
    "# Need to get rid of time as index, redundant for this data frame.\n",
    "base_var = base_var.reset_index()\n",
    "base_var = base_var.set_index(\"country\")\n",
    "\n",
    "# Calculate cbar: \"that is equal to 5 percent of total US consumption in 1956.\"\n",
    "# Adjust for population for all countries\n",
    "C_us0 = base_var.loc[base_var.index == \"US\", \"CONSUMPTION \"].iloc[0]\n",
    "G_us0 = base_var.loc[base_var.index == \"US\", \"GOVT. EXP\"].iloc[0]\n",
    "N_us0 = base_var.loc[base_var.index == \"US\", \"POPULATION\"].iloc[0]\n",
    "\n",
    "# Value for c_bar\n",
    "c_bar = 0.05*(C_us0 + G_us0)* base_var[\"POPULATION\"] /N_us0\n",
    "\n",
    "# Define variables we'll be working with (for clarity in formulas):\n",
    "C0 = base_var[\"CONSUMPTION \"]\n",
    "G0 = base_var[\"GOVT. EXP\"]\n",
    "Y0 = base_var[\"GDP\"]\n",
    "tw0 = base_var[\"taxwedge\"]\n",
    "H0 = base_var[\"L\"]\n",
    "YCG0 = (Y0)/(C0 + Lambda*G0 - c_bar) # Base period output to consumption ratio\n",
    "\n",
    "C = data[\"CONSUMPTION \"]\n",
    "G = data[\"GOVT. EXP\"]\n",
    "Y = data[\"GDP\"]\n",
    "tw = data[\"taxwedge\"]\n",
    "YCGt = (Y)/(C + G * Lambda - c_bar) # Output to consumption ratio at t for all t\n",
    "\n",
    "pct_work = H0/(H_bar - H0)**gamma # fraction worked to leisure\n",
    "\n",
    "data[\"work_leisure_t\"] = (tw * YCGt)/(tw0 * YCG0) * pct_work # Intuition for this?\n",
    "data[\"work_leisure_t\"] = pd.to_numeric(data[\"work_leisure_t\"])\n",
    "\n",
    "data[\"pred_hours\"] = data[\"work_leisure_t\"]*H_bar/(1 + data[\"work_leisure_t\"]) # Intuition?\n",
    "\n",
    "data[\"pred_change\"] = (data[\"pred_hours\"] - data[\"pred_hours\"].shift(1))/(data[\"pred_hours\"] .shift(1))\n",
    "\n",
    "table3 = data[\"pred_change\"].groupby([data.index.get_level_values('country'), data[\"decade\"]]).mean()\n",
    "table3 = (table3.unstack()*100).round(2)\n",
    "\n",
    "# Need to add a column of average change between 1956 and 2003:\n",
    "data_post_1956 = data[data.index.get_level_values('YEAR').year > 1956]\n",
    "table3[\"1956-2003\"] = data_post_1956[\"pred_change\"].groupby(data_post_1956.index.get_level_values('country')).mean()\n",
    "table3[\"1956-2003\"] =  (table3[\"1956-2003\"]*100).round(2)\n",
    "\n",
    "# Remove redundant columns:\n",
    "table3 = table3[[1960, 1970, 1980, 1990, \"1956-2003\"]]\n",
    "table3 = table3.sort_index()\n",
    "Model_hours_worked = table3\n",
    "Actual_hours_worked = table2\n",
    "\n",
    "# Add group information for sorting purposes\n",
    "table2[\"Group\"] = 1\n",
    "table2[\"Group\"] = table2[\"Group\"] + (table2[\"1956-2003\"] > -0.5)\n",
    "table2[\"Group\"] = table2[\"Group\"] + (table2[\"1956-2003\"] > 0)\n",
    "\n",
    "Actual_hours_worked[\"Group\"] = table2[\"Group\"]\n",
    "Model_hours_worked[\"Group\"] = table2[\"Group\"]\n",
    "Actual_hours_worked = Actual_hours_worked.sort_values(\"Group\")\n",
    "Model_hours_worked = Model_hours_worked.sort_values(\"Group\")\n"
   ]
  },
  {
   "cell_type": "code",
   "execution_count": 18,
   "metadata": {},
   "outputs": [
    {
     "data": {
      "text/latex": [
       "\\newpage"
      ],
      "text/plain": [
       "<IPython.core.display.Latex object>"
      ]
     },
     "metadata": {},
     "output_type": "display_data"
    }
   ],
   "source": [
    "%%latex\n",
    "\\newpage"
   ]
  },
  {
   "cell_type": "markdown",
   "metadata": {},
   "source": [
    "## Final tables"
   ]
  },
  {
   "cell_type": "code",
   "execution_count": 19,
   "metadata": {
    "slideshow": {
     "slide_type": "slide"
    }
   },
   "outputs": [
    {
     "data": {
      "text/html": [
       "<div>\n",
       "<style scoped>\n",
       "    .dataframe tbody tr th:only-of-type {\n",
       "        vertical-align: middle;\n",
       "    }\n",
       "\n",
       "    .dataframe tbody tr th {\n",
       "        vertical-align: top;\n",
       "    }\n",
       "\n",
       "    .dataframe thead th {\n",
       "        text-align: right;\n",
       "    }\n",
       "</style>\n",
       "<table border=\"1\" class=\"dataframe\">\n",
       "  <thead>\n",
       "    <tr style=\"text-align: right;\">\n",
       "      <th>decade</th>\n",
       "      <th>1960</th>\n",
       "      <th>1970</th>\n",
       "      <th>1980</th>\n",
       "      <th>1990</th>\n",
       "      <th>1956-2003</th>\n",
       "      <th>Group</th>\n",
       "    </tr>\n",
       "    <tr>\n",
       "      <th>country</th>\n",
       "      <th></th>\n",
       "      <th></th>\n",
       "      <th></th>\n",
       "      <th></th>\n",
       "      <th></th>\n",
       "      <th></th>\n",
       "    </tr>\n",
       "  </thead>\n",
       "  <tbody>\n",
       "    <tr>\n",
       "      <th>AUT</th>\n",
       "      <td>-0.70</td>\n",
       "      <td>-0.73</td>\n",
       "      <td>-0.11</td>\n",
       "      <td>-0.68</td>\n",
       "      <td>-0.49</td>\n",
       "      <td>1</td>\n",
       "    </tr>\n",
       "    <tr>\n",
       "      <th>BEL</th>\n",
       "      <td>-0.76</td>\n",
       "      <td>-1.60</td>\n",
       "      <td>-0.09</td>\n",
       "      <td>-0.25</td>\n",
       "      <td>-0.65</td>\n",
       "      <td>1</td>\n",
       "    </tr>\n",
       "    <tr>\n",
       "      <th>FIN</th>\n",
       "      <td>-1.04</td>\n",
       "      <td>-0.98</td>\n",
       "      <td>-1.36</td>\n",
       "      <td>-0.67</td>\n",
       "      <td>-0.79</td>\n",
       "      <td>1</td>\n",
       "    </tr>\n",
       "    <tr>\n",
       "      <th>FRA</th>\n",
       "      <td>-0.29</td>\n",
       "      <td>-0.65</td>\n",
       "      <td>-0.62</td>\n",
       "      <td>-0.28</td>\n",
       "      <td>-0.38</td>\n",
       "      <td>1</td>\n",
       "    </tr>\n",
       "    <tr>\n",
       "      <th>GER</th>\n",
       "      <td>-0.65</td>\n",
       "      <td>-1.43</td>\n",
       "      <td>-0.13</td>\n",
       "      <td>-0.78</td>\n",
       "      <td>-0.68</td>\n",
       "      <td>1</td>\n",
       "    </tr>\n",
       "    <tr>\n",
       "      <th>ITA</th>\n",
       "      <td>-0.70</td>\n",
       "      <td>-0.70</td>\n",
       "      <td>-1.70</td>\n",
       "      <td>-1.37</td>\n",
       "      <td>-0.92</td>\n",
       "      <td>1</td>\n",
       "    </tr>\n",
       "    <tr>\n",
       "      <th>JAP</th>\n",
       "      <td>0.57</td>\n",
       "      <td>-0.64</td>\n",
       "      <td>-0.38</td>\n",
       "      <td>-0.65</td>\n",
       "      <td>-0.28</td>\n",
       "      <td>2</td>\n",
       "    </tr>\n",
       "    <tr>\n",
       "      <th>NETH</th>\n",
       "      <td>-1.30</td>\n",
       "      <td>-1.59</td>\n",
       "      <td>0.80</td>\n",
       "      <td>0.42</td>\n",
       "      <td>-0.45</td>\n",
       "      <td>2</td>\n",
       "    </tr>\n",
       "    <tr>\n",
       "      <th>SPA</th>\n",
       "      <td>-0.17</td>\n",
       "      <td>-1.00</td>\n",
       "      <td>-1.25</td>\n",
       "      <td>-0.21</td>\n",
       "      <td>-0.70</td>\n",
       "      <td>2</td>\n",
       "    </tr>\n",
       "    <tr>\n",
       "      <th>SWE</th>\n",
       "      <td>-2.08</td>\n",
       "      <td>-1.39</td>\n",
       "      <td>-1.00</td>\n",
       "      <td>0.50</td>\n",
       "      <td>-0.76</td>\n",
       "      <td>2</td>\n",
       "    </tr>\n",
       "    <tr>\n",
       "      <th>SWI</th>\n",
       "      <td>-0.19</td>\n",
       "      <td>-0.78</td>\n",
       "      <td>0.25</td>\n",
       "      <td>-0.72</td>\n",
       "      <td>-0.38</td>\n",
       "      <td>2</td>\n",
       "    </tr>\n",
       "    <tr>\n",
       "      <th>UK</th>\n",
       "      <td>-0.68</td>\n",
       "      <td>-0.07</td>\n",
       "      <td>-0.35</td>\n",
       "      <td>-0.06</td>\n",
       "      <td>-0.33</td>\n",
       "      <td>2</td>\n",
       "    </tr>\n",
       "    <tr>\n",
       "      <th>AUS</th>\n",
       "      <td>-0.16</td>\n",
       "      <td>-0.86</td>\n",
       "      <td>-0.33</td>\n",
       "      <td>0.14</td>\n",
       "      <td>-0.30</td>\n",
       "      <td>3</td>\n",
       "    </tr>\n",
       "    <tr>\n",
       "      <th>CAN</th>\n",
       "      <td>-0.74</td>\n",
       "      <td>0.08</td>\n",
       "      <td>-0.58</td>\n",
       "      <td>0.21</td>\n",
       "      <td>-0.24</td>\n",
       "      <td>3</td>\n",
       "    </tr>\n",
       "    <tr>\n",
       "      <th>US</th>\n",
       "      <td>-0.49</td>\n",
       "      <td>0.06</td>\n",
       "      <td>-0.32</td>\n",
       "      <td>0.10</td>\n",
       "      <td>-0.20</td>\n",
       "      <td>3</td>\n",
       "    </tr>\n",
       "  </tbody>\n",
       "</table>\n",
       "</div>"
      ],
      "text/plain": [
       "decade   1960  1970  1980  1990  1956-2003  Group\n",
       "country                                          \n",
       "AUT     -0.70 -0.73 -0.11 -0.68      -0.49      1\n",
       "BEL     -0.76 -1.60 -0.09 -0.25      -0.65      1\n",
       "FIN     -1.04 -0.98 -1.36 -0.67      -0.79      1\n",
       "FRA     -0.29 -0.65 -0.62 -0.28      -0.38      1\n",
       "GER     -0.65 -1.43 -0.13 -0.78      -0.68      1\n",
       "ITA     -0.70 -0.70 -1.70 -1.37      -0.92      1\n",
       "JAP      0.57 -0.64 -0.38 -0.65      -0.28      2\n",
       "NETH    -1.30 -1.59  0.80  0.42      -0.45      2\n",
       "SPA     -0.17 -1.00 -1.25 -0.21      -0.70      2\n",
       "SWE     -2.08 -1.39 -1.00  0.50      -0.76      2\n",
       "SWI     -0.19 -0.78  0.25 -0.72      -0.38      2\n",
       "UK      -0.68 -0.07 -0.35 -0.06      -0.33      2\n",
       "AUS     -0.16 -0.86 -0.33  0.14      -0.30      3\n",
       "CAN     -0.74  0.08 -0.58  0.21      -0.24      3\n",
       "US      -0.49  0.06 -0.32  0.10      -0.20      3"
      ]
     },
     "execution_count": 19,
     "metadata": {},
     "output_type": "execute_result"
    }
   ],
   "source": [
    "Model_hours_worked"
   ]
  },
  {
   "cell_type": "code",
   "execution_count": 20,
   "metadata": {},
   "outputs": [
    {
     "data": {
      "text/html": [
       "<div>\n",
       "<style scoped>\n",
       "    .dataframe tbody tr th:only-of-type {\n",
       "        vertical-align: middle;\n",
       "    }\n",
       "\n",
       "    .dataframe tbody tr th {\n",
       "        vertical-align: top;\n",
       "    }\n",
       "\n",
       "    .dataframe thead th {\n",
       "        text-align: right;\n",
       "    }\n",
       "</style>\n",
       "<table border=\"1\" class=\"dataframe\">\n",
       "  <thead>\n",
       "    <tr style=\"text-align: right;\">\n",
       "      <th>decade</th>\n",
       "      <th>1960</th>\n",
       "      <th>1970</th>\n",
       "      <th>1980</th>\n",
       "      <th>1990</th>\n",
       "      <th>1956-2003</th>\n",
       "      <th>Group</th>\n",
       "    </tr>\n",
       "    <tr>\n",
       "      <th>country</th>\n",
       "      <th></th>\n",
       "      <th></th>\n",
       "      <th></th>\n",
       "      <th></th>\n",
       "      <th></th>\n",
       "      <th></th>\n",
       "    </tr>\n",
       "  </thead>\n",
       "  <tbody>\n",
       "    <tr>\n",
       "      <th>AUT</th>\n",
       "      <td>-1.03</td>\n",
       "      <td>-1.14</td>\n",
       "      <td>-0.22</td>\n",
       "      <td>-0.53</td>\n",
       "      <td>-0.64</td>\n",
       "      <td>1</td>\n",
       "    </tr>\n",
       "    <tr>\n",
       "      <th>BEL</th>\n",
       "      <td>-1.03</td>\n",
       "      <td>-1.64</td>\n",
       "      <td>-0.74</td>\n",
       "      <td>0.06</td>\n",
       "      <td>-0.72</td>\n",
       "      <td>1</td>\n",
       "    </tr>\n",
       "    <tr>\n",
       "      <th>FIN</th>\n",
       "      <td>-1.15</td>\n",
       "      <td>-0.45</td>\n",
       "      <td>0.32</td>\n",
       "      <td>-1.31</td>\n",
       "      <td>-0.58</td>\n",
       "      <td>1</td>\n",
       "    </tr>\n",
       "    <tr>\n",
       "      <th>FRA</th>\n",
       "      <td>-0.63</td>\n",
       "      <td>-1.47</td>\n",
       "      <td>-1.53</td>\n",
       "      <td>0.11</td>\n",
       "      <td>-0.87</td>\n",
       "      <td>1</td>\n",
       "    </tr>\n",
       "    <tr>\n",
       "      <th>GER</th>\n",
       "      <td>-1.09</td>\n",
       "      <td>-1.55</td>\n",
       "      <td>-1.20</td>\n",
       "      <td>-0.74</td>\n",
       "      <td>-1.08</td>\n",
       "      <td>1</td>\n",
       "    </tr>\n",
       "    <tr>\n",
       "      <th>ITA</th>\n",
       "      <td>-1.60</td>\n",
       "      <td>-1.19</td>\n",
       "      <td>-0.43</td>\n",
       "      <td>-0.16</td>\n",
       "      <td>-0.61</td>\n",
       "      <td>1</td>\n",
       "    </tr>\n",
       "    <tr>\n",
       "      <th>JAP</th>\n",
       "      <td>-0.39</td>\n",
       "      <td>-0.47</td>\n",
       "      <td>0.14</td>\n",
       "      <td>-0.74</td>\n",
       "      <td>-0.31</td>\n",
       "      <td>2</td>\n",
       "    </tr>\n",
       "    <tr>\n",
       "      <th>NETH</th>\n",
       "      <td>-0.65</td>\n",
       "      <td>-1.81</td>\n",
       "      <td>-0.95</td>\n",
       "      <td>1.40</td>\n",
       "      <td>-0.44</td>\n",
       "      <td>2</td>\n",
       "    </tr>\n",
       "    <tr>\n",
       "      <th>SPA</th>\n",
       "      <td>0.25</td>\n",
       "      <td>-1.67</td>\n",
       "      <td>-1.56</td>\n",
       "      <td>0.85</td>\n",
       "      <td>-0.28</td>\n",
       "      <td>2</td>\n",
       "    </tr>\n",
       "    <tr>\n",
       "      <th>SWE</th>\n",
       "      <td>-1.00</td>\n",
       "      <td>-0.36</td>\n",
       "      <td>0.54</td>\n",
       "      <td>-0.71</td>\n",
       "      <td>-0.48</td>\n",
       "      <td>2</td>\n",
       "    </tr>\n",
       "    <tr>\n",
       "      <th>SWI</th>\n",
       "      <td>-0.23</td>\n",
       "      <td>-1.26</td>\n",
       "      <td>0.31</td>\n",
       "      <td>0.27</td>\n",
       "      <td>-0.38</td>\n",
       "      <td>2</td>\n",
       "    </tr>\n",
       "    <tr>\n",
       "      <th>UK</th>\n",
       "      <td>-0.42</td>\n",
       "      <td>-1.17</td>\n",
       "      <td>-0.22</td>\n",
       "      <td>-0.34</td>\n",
       "      <td>-0.48</td>\n",
       "      <td>2</td>\n",
       "    </tr>\n",
       "    <tr>\n",
       "      <th>AUS</th>\n",
       "      <td>0.11</td>\n",
       "      <td>-0.53</td>\n",
       "      <td>0.49</td>\n",
       "      <td>-0.01</td>\n",
       "      <td>0.01</td>\n",
       "      <td>3</td>\n",
       "    </tr>\n",
       "    <tr>\n",
       "      <th>CAN</th>\n",
       "      <td>0.18</td>\n",
       "      <td>0.34</td>\n",
       "      <td>0.70</td>\n",
       "      <td>-0.16</td>\n",
       "      <td>0.17</td>\n",
       "      <td>3</td>\n",
       "    </tr>\n",
       "    <tr>\n",
       "      <th>US</th>\n",
       "      <td>0.29</td>\n",
       "      <td>-0.25</td>\n",
       "      <td>0.73</td>\n",
       "      <td>0.46</td>\n",
       "      <td>0.03</td>\n",
       "      <td>3</td>\n",
       "    </tr>\n",
       "  </tbody>\n",
       "</table>\n",
       "</div>"
      ],
      "text/plain": [
       "decade   1960  1970  1980  1990  1956-2003  Group\n",
       "country                                          \n",
       "AUT     -1.03 -1.14 -0.22 -0.53      -0.64      1\n",
       "BEL     -1.03 -1.64 -0.74  0.06      -0.72      1\n",
       "FIN     -1.15 -0.45  0.32 -1.31      -0.58      1\n",
       "FRA     -0.63 -1.47 -1.53  0.11      -0.87      1\n",
       "GER     -1.09 -1.55 -1.20 -0.74      -1.08      1\n",
       "ITA     -1.60 -1.19 -0.43 -0.16      -0.61      1\n",
       "JAP     -0.39 -0.47  0.14 -0.74      -0.31      2\n",
       "NETH    -0.65 -1.81 -0.95  1.40      -0.44      2\n",
       "SPA      0.25 -1.67 -1.56  0.85      -0.28      2\n",
       "SWE     -1.00 -0.36  0.54 -0.71      -0.48      2\n",
       "SWI     -0.23 -1.26  0.31  0.27      -0.38      2\n",
       "UK      -0.42 -1.17 -0.22 -0.34      -0.48      2\n",
       "AUS      0.11 -0.53  0.49 -0.01       0.01      3\n",
       "CAN      0.18  0.34  0.70 -0.16       0.17      3\n",
       "US       0.29 -0.25  0.73  0.46       0.03      3"
      ]
     },
     "execution_count": 20,
     "metadata": {},
     "output_type": "execute_result"
    }
   ],
   "source": [
    "Actual_hours_worked"
   ]
  },
  {
   "cell_type": "markdown",
   "metadata": {
    "slideshow": {
     "slide_type": "slide"
    }
   },
   "source": [
    "We don't end up with perfect values for Finland and Australia – this is likely because of data issues since we end up with correct results for most countries."
   ]
  },
  {
   "cell_type": "markdown",
   "metadata": {},
   "source": [
    "# Part 2\n",
    "\n",
    "## What is the research question in this paper?\n",
    "\n",
    "What explains the long run change in a country’s labor supply over time? Specifically, does the neoclassical growth model, augmented with taxes, account for the long run trends observed in the data?\n"
   ]
  },
  {
   "cell_type": "markdown",
   "metadata": {},
   "source": [
    "## What is the framework used to address the question, and is it a good model for this purpose?\n",
    "The framework used is the neo-classical growth model, augmented with labour and consumption tax rates, with an infinitely lived optimising household with preferences consistent with balanced growth. Entirely appropriate to the extent that the question is largely concerned with the usefulness of this framework!\n",
    "\n",
    " - The benefit of using this framework rather than just a regression is that the model posits a causal mechanism to account for the observed changes. Whereas a regression merely identifies and describes an empirical regularity between some set of variables, the model attempts to find the reason behind the regularity itself, and provides a rationale for how the strong empirical relationship might be under different circumstances.\n",
    "\n",
    "\n",
    " - Assumes that a perfectly competitive labour market perfectly caters towards household preferences for working hours. \n",
    "    -  The long time span does help to accommodate this propagation \n",
    "    -  This assumption may be undermined by labour market power and monopsony, or by lack of labour mobility, which might constrain the abilities of workers to actually pursue these preferences\n",
    "\n",
    " - The model excludes any explicit treatment of wages (i.e. the price of leisure and immediate source of consumption income), instead modelling purchasing power through the labour share of the overall economy’s production function. But treating the economy as a single optimising household does not allow room for wage inequality, which would affects each household’s tradeoff differently. The same problem pertains to the progressive income taxes (the model taxes average effective tax rate data), and the fact that different income households derive different utility from government spending programs, and also have different savings rates, so are differently affected by consumption taxes. This matters because an hour worked by either of these different income households shows up exactly the same in the data.\n",
    "\n",
    " - The authors are keen to affirm the appropriateness of “(asymptotic) balanced growth preferences”, which requires perfectly offsetting income and substitution effects of wage rises from productivity growth. \n",
    "\n",
    " - The authors use the same preferences between countries. This supports the power of their model since it prevents them from simply displacing the problem by positing exogenous and mysterious changes in preferences in order to explain the observed changes in labour supply. \n",
    "\n",
    " - The infinitely lived household model abstracts away from the fact that individual households’ saving and working profiles are not constant over their lifetime. This seems appropriate insofar as these effects ought to balance out in the population as a whole, which is the subject of our enquiry.\n"
   ]
  },
  {
   "cell_type": "markdown",
   "metadata": {},
   "source": [
    "## What is the contribution of the paper relative to the previous literature? How do you judge this contribution?\n",
    "Prescott (2004) is the benchmark to which this paper adds:\n",
    " - a longer time span\n",
    " - attention to fluctuations within that span, \n",
    " - a much larger set of countries, a longer time period, \n",
    " - an econometric angle to discuss whether the tax wedge is explanatory conditioning on other variables in the economy. These are all reasonable contributions. \n",
    "\n",
    "The most instructive of these contribution is arguably its attention to the shape of the path of taxes and labour supply throughout the period, as opposed to Prescott’s far more elliptical comparison of 2 snapshots. Consider the Netherlands, whose fall and then subsequent recovery in working hours is anticipated by Ohanien et al., but could not be tested in Prescott’s framework. In general, many potentially important variables are likely to change during a large time interval, their timing and extent is likely to vary between them. A model that can consistently match the timing and extent of these changes is dramatically more reliable than a static 2-period comparison. \n",
    "\n",
    "We also think the larger data set (more countries and longer time series) adds credibility beyond the Prescott paper, which could have been driven by peculiarities of the seven countries he analysed. For example, one of Precott’s seven countries used is Germany, which underwent reunification in the middle of the period in question, which we might expect to affect the labour market in ways outside the scope of the model. \n",
    "\n",
    "We also find the econometric results useful, as this puts the model in perspective and shows that the tax wedge itself drives the results. It also "
   ]
  },
  {
   "cell_type": "markdown",
   "metadata": {},
   "source": [
    "## Suggestions for improvement/future research?\n",
    "Further research could try to augment the model to account for other factors that affect the work/leisure problem, such as: Retirement age, age of entrance to the labor force, education system, child-care, women’s labor force participation, unemployment benefits, unions bargaining power, distribution of the economic activity by sectors, unemployment rate, demographics, social security systems, legal framework, GDP growth. The paper also suggests home production even if it may not be important for countries that experienced the largest decline in work hours.\n",
    "\n",
    "Another improvement could be to look at sensitivity to parameters such as c bar, gamma and lambda etc.\n",
    "\n",
    "Their model tends to overpredict hours for those countries whose hours fell a lot,  but underpredict for those countries whose hours rose or remained stable, while it was impressively accurate for countries with moderate declines in hours. On the face of it, this would suggest that the model is insufficient - however the model does nonetheless predict a dispersion of labour supply between countries on the lines observed: the inaccuracies in its predictions are quantitative rather than qualitative. A likely explanation for this is that the tax changes observed are also correlated with other factors that would similarly reinforce the pattern of labour supply dispersion. A future research agenda would be to explore these other relationships. \n",
    "\n",
    "It’s worth noting that the predictive accuracy for each of the 3 group averages masks considerable wider offsetting inaccuracies at the country level. This may be attributable to noise that doesn’t undermine the model’s key claims. Further research may wish to explore the individual country-level inaccuracies in the model’s predictions, perhaps through investigating qualitative factors of the kind identified by Ragan (2005) and Rogerson (2007) regarding the nature of Swedish public spending programs. "
   ]
  },
  {
   "cell_type": "code",
   "execution_count": null,
   "metadata": {},
   "outputs": [],
   "source": []
  }
 ],
 "metadata": {
  "celltoolbar": "Slideshow",
  "kernelspec": {
   "display_name": "Python 3",
   "language": "python",
   "name": "python3"
  },
  "language_info": {
   "codemirror_mode": {
    "name": "ipython",
    "version": 3
   },
   "file_extension": ".py",
   "mimetype": "text/x-python",
   "name": "python",
   "nbconvert_exporter": "python",
   "pygments_lexer": "ipython3",
   "version": "3.6.3"
  }
 },
 "nbformat": 4,
 "nbformat_minor": 2
}
